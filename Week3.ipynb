{
  "nbformat": 4,
  "nbformat_minor": 0,
  "metadata": {
    "colab": {
      "provenance": [],
      "authorship_tag": "ABX9TyOQHkm2X1IReP4dKy08QaF8",
      "include_colab_link": true
    },
    "kernelspec": {
      "name": "python3",
      "display_name": "Python 3"
    },
    "language_info": {
      "name": "python"
    }
  },
  "cells": [
    {
      "cell_type": "markdown",
      "metadata": {
        "id": "view-in-github",
        "colab_type": "text"
      },
      "source": [
        "<a href=\"https://colab.research.google.com/github/emkafie/PCVK/blob/main/Week3.ipynb\" target=\"_parent\"><img src=\"https://colab.research.google.com/assets/colab-badge.svg\" alt=\"Open In Colab\"/></a>"
      ]
    },
    {
      "cell_type": "markdown",
      "source": [
        "# **Praktikum - Week 3**\n"
      ],
      "metadata": {
        "id": "sOygKkJBpB2B"
      }
    },
    {
      "cell_type": "markdown",
      "source": [
        "# **D1. Operasi Citra Sederhana**\n",
        "\n",
        "Akses folder images pada Google Drive"
      ],
      "metadata": {
        "id": "uf9srl7QpI_E"
      }
    },
    {
      "cell_type": "code",
      "execution_count": null,
      "metadata": {
        "id": "QYhNpoxBnvm-"
      },
      "outputs": [],
      "source": [
        "from goole.colab import drive\n",
        "drive.mount('content/drive')"
      ]
    },
    {
      "cell_type": "markdown",
      "source": [
        "Melakukan transformasi linier brightness dengan memasukkan nilai konstanta tertentu\n",
        "dan menghasilkan warna. Seperti yang telah dibahas pada ulasan teori, formula untuk\n",
        "melakukan transformasi linier brightness adalah sebagai berikut:\n",
        "\n",
        "𝑔(𝑥, 𝑦) = 𝑓(𝑥, 𝑦) + 𝑏\n",
        "\n",
        "dimana g(x,y) adalah nilai pixel setelah transformasi, f(x,y) adalah nilai pixel asli, dan b\n",
        "adalah nilai brightness."
      ],
      "metadata": {
        "id": "QJxs4G_5pnp2"
      }
    }
  ]
}